{
  "nbformat": 4,
  "nbformat_minor": 0,
  "metadata": {
    "colab": {
      "provenance": [],
      "authorship_tag": "ABX9TyMxbsKbq5XSPOnTdSyPrN2M",
      "include_colab_link": true
    },
    "kernelspec": {
      "name": "python3",
      "display_name": "Python 3"
    },
    "language_info": {
      "name": "python"
    }
  },
  "cells": [
    {
      "cell_type": "markdown",
      "metadata": {
        "id": "view-in-github",
        "colab_type": "text"
      },
      "source": [
        "<a href=\"https://colab.research.google.com/github/Rastanan17/Cypher.Net/blob/main/Untitled0.ipynb\" target=\"_parent\"><img src=\"https://colab.research.google.com/assets/colab-badge.svg\" alt=\"Open In Colab\"/></a>"
      ]
    },
    {
      "cell_type": "code",
      "execution_count": 5,
      "metadata": {
        "colab": {
          "base_uri": "https://localhost:8080/"
        },
        "id": "yRbdoDmFElM3",
        "outputId": "8c54e2f5-8a72-48f8-84dd-9227d89bf5ff"
      },
      "outputs": [
        {
          "output_type": "stream",
          "name": "stdout",
          "text": [
            "Ingrese su nombre: Adrian\n",
            "Hola Adrian Bienvenido\n"
          ]
        }
      ],
      "source": [
        "'''\n",
        "Esto es un comentario\n",
        "'''\n",
        "\n",
        "nombre = input(\"Ingrese su nombre: \")\n",
        "print(\"Hola\", nombre, \"Bienvenido\")"
      ]
    },
    {
      "cell_type": "code",
      "source": [
        "edad = input(\"Ingrese su edad: \") #esto es un comentario.\n",
        "print(\"Hola\", nombre, \"Su edad es\", edad, \"años\")"
      ],
      "metadata": {
        "colab": {
          "base_uri": "https://localhost:8080/"
        },
        "id": "JE7tpAwFmB7r",
        "outputId": "1c82c3c8-b1f4-4f98-ebd4-7b38209b2f6e"
      },
      "execution_count": 11,
      "outputs": [
        {
          "output_type": "stream",
          "name": "stdout",
          "text": [
            "Ingrese su edad: 33\n",
            "Hola Adrian Su edad es 33 años\n"
          ]
        }
      ]
    },
    {
      "cell_type": "code",
      "source": [
        "a = \"palabra\"\n",
        "b = \"5\"\n",
        "c = 8\n",
        "d = 4.5\n",
        "e = True\n",
        "\n",
        "type(a)\n",
        "type(b)\n",
        "type(c)\n",
        "type(d)\n",
        "type(e)\n",
        "\n",
        "print(type(a))\n",
        "print(type(b))\n",
        "print(type(c))\n",
        "print(type(d))\n",
        "print(type(e))\n",
        "\n",
        "print(a+b)\n",
        "print(c+d)\n"
      ],
      "metadata": {
        "colab": {
          "base_uri": "https://localhost:8080/"
        },
        "id": "TOGL4NOhpG19",
        "outputId": "e3a44058-f099-48f1-eac7-0f47a65e2af6"
      },
      "execution_count": 17,
      "outputs": [
        {
          "output_type": "stream",
          "name": "stdout",
          "text": [
            "<class 'str'>\n",
            "<class 'str'>\n",
            "<class 'int'>\n",
            "<class 'float'>\n",
            "<class 'bool'>\n",
            "palabra5\n",
            "12.5\n"
          ]
        }
      ]
    },
    {
      "cell_type": "code",
      "source": [
        "lista = [\"Booleano\",c,d,\"Enfermedad\"]\n",
        "print(lista)\n",
        "print(lista[0])\n",
        "print(lista[1])\n",
        "print(lista[2])\n",
        "print(lista[3])"
      ],
      "metadata": {
        "colab": {
          "base_uri": "https://localhost:8080/"
        },
        "id": "UoqEqrFdpGgQ",
        "outputId": "ca195dab-3fda-43ff-c89c-0d8a0bea4027"
      },
      "execution_count": 20,
      "outputs": [
        {
          "output_type": "stream",
          "name": "stdout",
          "text": [
            "['Booleano', 8, 4.5, 'Enfermedad']\n",
            "Booleano\n",
            "8\n",
            "4.5\n",
            "Enfermedad\n"
          ]
        }
      ]
    },
    {
      "cell_type": "code",
      "source": [
        "diccionario = {\"pais\": \"Argentina\", \"Año de Independencia\": 1916, \"Capital\": \"Buenos Aires\", \"Bandera\": \"Celeste y Blanco\"};\n",
        "print(diccionario[\"pais\"])\n",
        "print(diccionario[\"Año de Independencia\"])\n",
        "print(diccionario[\"Capital\"])\n",
        "print(diccionario[\"Bandera\"])\n",
        "\n"
      ],
      "metadata": {
        "colab": {
          "base_uri": "https://localhost:8080/"
        },
        "id": "HBS3nYyZ3Eqy",
        "outputId": "b33cafd5-6fef-44ea-db29-e62be8ecb977"
      },
      "execution_count": 25,
      "outputs": [
        {
          "output_type": "stream",
          "name": "stdout",
          "text": [
            "Argentina\n",
            "1916\n",
            "Buenos Aires\n",
            "Celeste y Blanco\n"
          ]
        }
      ]
    },
    {
      "cell_type": "code",
      "source": [
        "a = \"Tyron\"\n",
        "b = \"Gonzalez\"\n",
        "c = 19\n",
        "print(a,b,c)\n",
        "print(a+\" \"+b+\" \"+str(c))\n",
        "print(\"Hola, mi nombre es {} {} y tengo {} años\".format(a,b,c))\n",
        "print(b.count(\"z\"))\n",
        "print(len(a))\n",
        "print(a.upper())\n",
        "print(a.lower())"
      ],
      "metadata": {
        "colab": {
          "base_uri": "https://localhost:8080/"
        },
        "id": "QykAq3NY4hVZ",
        "outputId": "722e8308-6ef9-4c20-d4c7-1698bc10eb9f"
      },
      "execution_count": 34,
      "outputs": [
        {
          "output_type": "stream",
          "name": "stdout",
          "text": [
            "Tyron Gonzalez 19\n",
            "Tyron Gonzalez 19\n",
            "Hola, mi nombre es Tyron Gonzalez y tengo 19 años\n",
            "2\n",
            "5\n",
            "TYRON\n",
            "tyron\n"
          ]
        }
      ]
    },
    {
      "cell_type": "code",
      "source": [
        "print(5+3)\n",
        "print(5-3)\n",
        "print(5*3)\n",
        "print(5/3)\n",
        "print(5//3)\n",
        "print(5%3)\n",
        "print(5**3)\n",
        "print(5**0.5)"
      ],
      "metadata": {
        "colab": {
          "base_uri": "https://localhost:8080/"
        },
        "id": "CiwqbUaC8FLl",
        "outputId": "4b0b79e8-bf7b-48cd-b508-318a333b4bef"
      },
      "execution_count": 35,
      "outputs": [
        {
          "output_type": "stream",
          "name": "stdout",
          "text": [
            "8\n",
            "2\n",
            "15\n",
            "1.6666666666666667\n",
            "1\n",
            "2\n",
            "125\n",
            "2.23606797749979\n"
          ]
        }
      ]
    },
    {
      "cell_type": "code",
      "source": [
        "lista=([1,2,3,4,5])\n",
        "print(max(lista))\n",
        "print(min(lista))\n",
        "print(sum(lista))\n",
        "print(sum(lista)/len(lista))"
      ],
      "metadata": {
        "colab": {
          "base_uri": "https://localhost:8080/"
        },
        "id": "K5vtCylx8T_b",
        "outputId": "007ddc59-6dd1-4bc7-ab7e-37a3b2369bc6"
      },
      "execution_count": 36,
      "outputs": [
        {
          "output_type": "stream",
          "name": "stdout",
          "text": [
            "5\n",
            "1\n",
            "15\n",
            "3.0\n"
          ]
        }
      ]
    },
    {
      "cell_type": "code",
      "source": [
        "lista=([1,2,3,4,5,\"empieza\"])\n",
        "print(max(lista))"
      ],
      "metadata": {
        "colab": {
          "base_uri": "https://localhost:8080/",
          "height": 159
        },
        "id": "Z4fjOBzr8s1e",
        "outputId": "caf18fb2-bb77-4538-a9cd-5d4259cde441"
      },
      "execution_count": 37,
      "outputs": [
        {
          "output_type": "error",
          "ename": "TypeError",
          "evalue": "'>' not supported between instances of 'str' and 'int'",
          "traceback": [
            "\u001b[0;31m---------------------------------------------------------------------------\u001b[0m",
            "\u001b[0;31mTypeError\u001b[0m                                 Traceback (most recent call last)",
            "\u001b[0;32m<ipython-input-37-57c4cb055317>\u001b[0m in \u001b[0;36m<cell line: 2>\u001b[0;34m()\u001b[0m\n\u001b[1;32m      1\u001b[0m \u001b[0mlista\u001b[0m\u001b[0;34m=\u001b[0m\u001b[0;34m(\u001b[0m\u001b[0;34m[\u001b[0m\u001b[0;36m1\u001b[0m\u001b[0;34m,\u001b[0m\u001b[0;36m2\u001b[0m\u001b[0;34m,\u001b[0m\u001b[0;36m3\u001b[0m\u001b[0;34m,\u001b[0m\u001b[0;36m4\u001b[0m\u001b[0;34m,\u001b[0m\u001b[0;36m5\u001b[0m\u001b[0;34m,\u001b[0m\u001b[0;34m\"empieza\"\u001b[0m\u001b[0;34m]\u001b[0m\u001b[0;34m)\u001b[0m\u001b[0;34m\u001b[0m\u001b[0;34m\u001b[0m\u001b[0m\n\u001b[0;32m----> 2\u001b[0;31m \u001b[0mprint\u001b[0m\u001b[0;34m(\u001b[0m\u001b[0mmax\u001b[0m\u001b[0;34m(\u001b[0m\u001b[0mlista\u001b[0m\u001b[0;34m)\u001b[0m\u001b[0;34m)\u001b[0m\u001b[0;34m\u001b[0m\u001b[0;34m\u001b[0m\u001b[0m\n\u001b[0m",
            "\u001b[0;31mTypeError\u001b[0m: '>' not supported between instances of 'str' and 'int'"
          ]
        }
      ]
    },
    {
      "cell_type": "markdown",
      "source": [
        "\n",
        "#**Ejercicio - El Vendedor**\n",
        "\n",
        "Crearemos ahora un programa que solicita un usuario:\n",
        "* El precio de un articulo.\n",
        "* La cantidad de ellos que comprará.\n",
        "* El porcentaje de descuento que se ofrece para ese articulo.\n",
        "\n",
        "Hecho esto, nos retornará el valor total a pagar, de la forma \"El totar a pagar es de ... pesos\""
      ],
      "metadata": {
        "id": "n8rR74Op-crX"
      }
    },
    {
      "cell_type": "code",
      "source": [
        "# solicitar al usuario el precio del articulo\n",
        "precio_articulo = float(input(\"Ingrese el precio del articulo: \"))\n",
        "\n",
        "# Solicitar al usuario la cantidad de articulos que comprará\n",
        "cantidad_articulos = int(input(\"Ingrese la cantidad de articulos que comprará: \"))\n",
        "\n",
        "# Solicitar al usuario el porcentaje de descuento\n",
        "porcentaje_descuento =float(input(\"Ingrese el porcentaje de descuento ofrecido: \"))\n",
        "\n",
        "# Calcular el total a pagar con el descuento\n",
        "porcentaje_descuento - precio_articulo * (porcentaje_descuento / 100)\n",
        "total_pagar = (precio_articulo - porcentaje_descuento) * cantidad_articulos\n",
        "\n",
        "# Mostrar el resultado\n",
        "print(f\"El total a pagar es de {total_pagar:.2f} pesos\")"
      ],
      "metadata": {
        "colab": {
          "base_uri": "https://localhost:8080/"
        },
        "id": "hQmr8FS08xxo",
        "outputId": "0c8abc36-5033-414f-db77-6a2c03ac4260"
      },
      "execution_count": 44,
      "outputs": [
        {
          "output_type": "stream",
          "name": "stdout",
          "text": [
            "Ingrese el precio del articulo: 1690\n",
            "Ingrese la cantidad de articulos que comprará: 6\n",
            "Ingrese el porcentaje de descuento ofrecido: 15\n",
            "El total a pagar es de 10050.00 pesos\n"
          ]
        }
      ]
    },
    {
      "cell_type": "code",
      "source": [
        "import random\n",
        "num_aleatorio = random.randint(1,10)\n",
        "print(f\" EL número aleatorio es {num_aleatorio}\")"
      ],
      "metadata": {
        "colab": {
          "base_uri": "https://localhost:8080/"
        },
        "id": "mv56JCexFqVx",
        "outputId": "073ee762-c8c8-4253-ac5f-458e043f29bf"
      },
      "execution_count": 49,
      "outputs": [
        {
          "output_type": "stream",
          "name": "stdout",
          "text": [
            " EL número aleatorio es 1\n"
          ]
        }
      ]
    }
  ]
}